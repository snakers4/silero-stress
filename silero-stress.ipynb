{
 "cells": [
  {
   "cell_type": "code",
   "execution_count": 1,
   "metadata": {},
   "outputs": [],
   "source": [
    "from silero_stress import load_accentor"
   ]
  },
  {
   "cell_type": "code",
   "execution_count": 2,
   "metadata": {},
   "outputs": [],
   "source": [
    "accentor = load_accentor()"
   ]
  },
  {
   "cell_type": "code",
   "execution_count": 15,
   "metadata": {},
   "outputs": [
    {
     "name": "stdout",
     "output_type": "stream",
     "text": [
      "Случ+айный, совс+ем н+е ч+ерри-п+икнутый т+екст дл+я классифик+атора об+ычных удар+ений.\n"
     ]
    }
   ],
   "source": [
    "sample_sent = 'Случайный, совсем не черри-пикнутый текст для классификатора обычных ударений.'\n",
    "print(accentor(sample_sent))"
   ]
  },
  {
   "cell_type": "code",
   "execution_count": 16,
   "metadata": {},
   "outputs": [
    {
     "name": "stdout",
     "output_type": "stream",
     "text": [
      "Мо+я м+ать, м+оя пос+уду, рассказ+ала +о н+ём, чт+о +он н+ем. Н+у... Говор+ить н+е ум+еет. +И с +этого мом+ента вс+ё заверт+елось, +и вс+е заверт+елись.\n"
     ]
    }
   ],
   "source": [
    "sample_sent = 'Моя мать, моя посуду, рассказала о нем, что он нем. Ну... Говорить не умеет. И с этого момента все завертелось, и все завертелись.'\n",
    "print(accentor(sample_sent))"
   ]
  },
  {
   "cell_type": "code",
   "execution_count": 17,
   "metadata": {},
   "outputs": [
    {
     "name": "stdout",
     "output_type": "stream",
     "text": [
      "Когд+а +я вычит+ал +из сем+и с+емь, +я н+е получ+ил н+оль! Хот+я тв+ёрдо зн+аю (в+ычитал в уч+ебнике), чт+о с+емью с+емь - с+орок д+евять. Н+у, х+оть +этим зн+анием пор+адую семь+ю.\n"
     ]
    }
   ],
   "source": [
    "sample_sent = 'Когда я вычитал из семи семь, я не получил ноль! Хотя твёрдо знаю (вычитал в учебнике), что семью семь - сорок девять. Ну, хоть этим знанием порадую семью.'\n",
    "print(accentor(sample_sent))"
   ]
  },
  {
   "cell_type": "code",
   "execution_count": null,
   "metadata": {},
   "outputs": [],
   "source": []
  }
 ],
 "metadata": {
  "kernelspec": {
   "display_name": "base",
   "language": "python",
   "name": "python3"
  },
  "language_info": {
   "codemirror_mode": {
    "name": "ipython",
    "version": 3
   },
   "file_extension": ".py",
   "mimetype": "text/x-python",
   "name": "python",
   "nbconvert_exporter": "python",
   "pygments_lexer": "ipython3",
   "version": "3.7.13"
  }
 },
 "nbformat": 4,
 "nbformat_minor": 2
}
