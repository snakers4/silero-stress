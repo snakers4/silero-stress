{
 "cells": [
  {
   "cell_type": "markdown",
   "metadata": {},
   "source": [
    "## Installation"
   ]
  },
  {
   "cell_type": "markdown",
   "metadata": {},
   "source": [
    "> This assumes that you have a relevant version of Python and PyTorch ALREADY installed."
   ]
  },
  {
   "cell_type": "code",
   "execution_count": null,
   "metadata": {},
   "outputs": [],
   "source": [
    "# using pip\n",
    "!pip install -q silero-stress\n",
    "from silero_stress import load_accentor\n",
    "# the number of threads is set automatically to 1\n",
    "accentor = load_accentor()"
   ]
  },
  {
   "cell_type": "code",
   "execution_count": null,
   "metadata": {},
   "outputs": [],
   "source": [
    "# using torch.hub\n",
    "import torch\n",
    "torch.set_num_threads(1)\n",
    "accentor = torch.hub.load(repo_or_dir='snakers4/silero-stress', model='silero_stress')"
   ]
  },
  {
   "cell_type": "markdown",
   "metadata": {
    "ExecuteTime": {
     "end_time": "2025-10-08T05:04:39.361544Z",
     "start_time": "2025-10-08T05:04:39.358646Z"
    }
   },
   "source": [
    "## Usage"
   ]
  },
  {
   "cell_type": "code",
   "execution_count": null,
   "metadata": {},
   "outputs": [],
   "source": [
    "sample_sent = \"В недрах тундры выдры в гетрах тырят в ведра ядра кедров.\"\n",
    "print(accentor(sample_sent))"
   ]
  },
  {
   "cell_type": "code",
   "execution_count": null,
   "metadata": {
    "ExecuteTime": {
     "end_time": "2025-10-08T04:20:56.140126Z",
     "start_time": "2025-10-08T04:20:56.096352Z"
    }
   },
   "outputs": [],
   "source": [
    "sample_sent = 'Случайный, совсем не черри-пикнутый текст для классификатора обычных ударений.'\n",
    "print(accentor(sample_sent))"
   ]
  },
  {
   "cell_type": "code",
   "execution_count": null,
   "metadata": {
    "ExecuteTime": {
     "end_time": "2025-10-08T04:24:31.408003Z",
     "start_time": "2025-10-08T04:24:31.387505Z"
    }
   },
   "outputs": [],
   "source": [
    "sample_sent = 'Ученики, все сделали домашнюю работу? Все в этом мире это тлен, как жить? Елка растет во дворе.'\n",
    "print(accentor(sample_sent))"
   ]
  },
  {
   "cell_type": "code",
   "execution_count": null,
   "metadata": {
    "ExecuteTime": {
     "end_time": "2025-10-08T04:20:57.196405Z",
     "start_time": "2025-10-08T04:20:57.112371Z"
    }
   },
   "outputs": [],
   "source": [
    "sample_sent = 'Моя мать, моя посуду, рассказала о нем, что он нем. Ну... Говорить не умеет. И с этого момента все завертелось, и все завертелись.'\n",
    "print(accentor(sample_sent))"
   ]
  },
  {
   "cell_type": "code",
   "execution_count": null,
   "metadata": {
    "ExecuteTime": {
     "end_time": "2025-10-08T04:20:58.547679Z",
     "start_time": "2025-10-08T04:20:58.186518Z"
    }
   },
   "outputs": [],
   "source": [
    "sample_sent = 'Когда я вычитал из семи семь, я не получил ноль! Хотя твёрдо знаю (вычитал в учебнике), что семью семь - сорок девять. Ну, хоть этим знанием порадую семью.'\n",
    "print(accentor(sample_sent))"
   ]
  }
 ],
 "metadata": {
  "kernelspec": {
   "display_name": "Python 3 (ipykernel)",
   "language": "python",
   "name": "python3"
  },
  "language_info": {
   "codemirror_mode": {
    "name": "ipython",
    "version": 3
   },
   "file_extension": ".py",
   "mimetype": "text/x-python",
   "name": "python",
   "nbconvert_exporter": "python",
   "pygments_lexer": "ipython3",
   "version": "3.10.9"
  },
  "toc": {
   "base_numbering": 1,
   "nav_menu": {},
   "number_sections": true,
   "sideBar": true,
   "skip_h1_title": false,
   "title_cell": "Table of Contents",
   "title_sidebar": "Contents",
   "toc_cell": false,
   "toc_position": {},
   "toc_section_display": true,
   "toc_window_display": false
  }
 },
 "nbformat": 4,
 "nbformat_minor": 2
}
